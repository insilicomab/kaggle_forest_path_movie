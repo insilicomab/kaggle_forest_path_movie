{
 "cells": [
  {
   "cell_type": "code",
   "execution_count": 1,
   "id": "45bae5f8",
   "metadata": {
    "execution": {
     "iopub.execute_input": "2022-05-26T02:03:58.121746Z",
     "iopub.status.busy": "2022-05-26T02:03:58.120968Z",
     "iopub.status.idle": "2022-05-26T02:04:00.933560Z",
     "shell.execute_reply": "2022-05-26T02:04:00.932667Z"
    },
    "papermill": {
     "duration": 2.837852,
     "end_time": "2022-05-26T02:04:00.936443",
     "exception": false,
     "start_time": "2022-05-26T02:03:58.098591",
     "status": "completed"
    },
    "tags": []
   },
   "outputs": [],
   "source": [
    "# ライブラリのインポート\n",
    "import numpy as np\n",
    "import pandas as pd\n",
    "import itertools\n",
    "import shutil\n",
    "from PIL import Image\n",
    "import os\n",
    "\n",
    "import torch\n",
    "from torch import nn, utils, optim\n",
    "from torchvision import transforms, models\n",
    "from sklearn.metrics import f1_score, accuracy_score\n",
    "from sklearn.model_selection import train_test_split"
   ]
  },
  {
   "cell_type": "code",
   "execution_count": 2,
   "id": "42d7b131",
   "metadata": {
    "execution": {
     "iopub.execute_input": "2022-05-26T02:04:00.976703Z",
     "iopub.status.busy": "2022-05-26T02:04:00.976145Z",
     "iopub.status.idle": "2022-05-26T02:04:01.026603Z",
     "shell.execute_reply": "2022-05-26T02:04:01.025481Z"
    },
    "papermill": {
     "duration": 0.071268,
     "end_time": "2022-05-26T02:04:01.028595",
     "exception": false,
     "start_time": "2022-05-26T02:04:00.957327",
     "status": "completed"
    },
    "tags": []
   },
   "outputs": [],
   "source": [
    "# GPUを使うかどうか\n",
    "USE_DEVICE = 'cuda:0' if torch.cuda.is_available() else 'cpu'"
   ]
  },
  {
   "cell_type": "code",
   "execution_count": 3,
   "id": "fe188857",
   "metadata": {
    "execution": {
     "iopub.execute_input": "2022-05-26T02:04:01.065804Z",
     "iopub.status.busy": "2022-05-26T02:04:01.065591Z",
     "iopub.status.idle": "2022-05-26T02:04:01.068975Z",
     "shell.execute_reply": "2022-05-26T02:04:01.068280Z"
    },
    "papermill": {
     "duration": 0.023849,
     "end_time": "2022-05-26T02:04:01.070646",
     "exception": false,
     "start_time": "2022-05-26T02:04:01.046797",
     "status": "completed"
    },
    "tags": []
   },
   "outputs": [],
   "source": [
    "# データがあるディレクトリ\n",
    "INPUT_DIR = '../input/forestpathmoviedataset/'"
   ]
  },
  {
   "cell_type": "code",
   "execution_count": 4,
   "id": "2d671dce",
   "metadata": {
    "execution": {
     "iopub.execute_input": "2022-05-26T02:04:01.109048Z",
     "iopub.status.busy": "2022-05-26T02:04:01.108380Z",
     "iopub.status.idle": "2022-05-26T02:04:01.113067Z",
     "shell.execute_reply": "2022-05-26T02:04:01.112348Z"
    },
    "papermill": {
     "duration": 0.025645,
     "end_time": "2022-05-26T02:04:01.114824",
     "exception": false,
     "start_time": "2022-05-26T02:04:01.089179",
     "status": "completed"
    },
    "tags": []
   },
   "outputs": [],
   "source": [
    "# PyTorchの内部を決定論的に設定する\n",
    "torch.backends.cudnn.deterministic = True\n",
    "torch.backends.cudnn.benchmark = False\n",
    "\n",
    "# 乱数を初期化する関数\n",
    "def init_seed():\n",
    "    np.random.seed(0)\n",
    "    torch.manual_seed(0)"
   ]
  },
  {
   "cell_type": "code",
   "execution_count": 5,
   "id": "bbe4ee42",
   "metadata": {
    "execution": {
     "iopub.execute_input": "2022-05-26T02:04:01.154498Z",
     "iopub.status.busy": "2022-05-26T02:04:01.154288Z",
     "iopub.status.idle": "2022-05-26T02:04:01.157922Z",
     "shell.execute_reply": "2022-05-26T02:04:01.157242Z"
    },
    "papermill": {
     "duration": 0.026559,
     "end_time": "2022-05-26T02:04:01.159685",
     "exception": false,
     "start_time": "2022-05-26T02:04:01.133126",
     "status": "completed"
    },
    "tags": []
   },
   "outputs": [],
   "source": [
    "# 一時ディレクトリを作成\n",
    "if not os.path.isdir('tmp'):\n",
    "    os.mkdir('tmp')"
   ]
  },
  {
   "cell_type": "code",
   "execution_count": 6,
   "id": "67a780b1",
   "metadata": {
    "execution": {
     "iopub.execute_input": "2022-05-26T02:04:01.197170Z",
     "iopub.status.busy": "2022-05-26T02:04:01.196814Z",
     "iopub.status.idle": "2022-05-26T02:04:01.252851Z",
     "shell.execute_reply": "2022-05-26T02:04:01.249576Z"
    },
    "papermill": {
     "duration": 0.082582,
     "end_time": "2022-05-26T02:04:01.260535",
     "exception": false,
     "start_time": "2022-05-26T02:04:01.177953",
     "status": "completed"
    },
    "tags": []
   },
   "outputs": [],
   "source": [
    "# データセットの定義ファイルを読み込む\n",
    "df = pd.read_csv(INPUT_DIR + 'all_file.csv')"
   ]
  },
  {
   "cell_type": "code",
   "execution_count": 7,
   "id": "cc4b172d",
   "metadata": {
    "execution": {
     "iopub.execute_input": "2022-05-26T02:04:01.332667Z",
     "iopub.status.busy": "2022-05-26T02:04:01.332402Z",
     "iopub.status.idle": "2022-05-26T02:04:01.394277Z",
     "shell.execute_reply": "2022-05-26T02:04:01.392714Z"
    },
    "papermill": {
     "duration": 0.109348,
     "end_time": "2022-05-26T02:04:01.398626",
     "exception": false,
     "start_time": "2022-05-26T02:04:01.289278",
     "status": "completed"
    },
    "tags": []
   },
   "outputs": [],
   "source": [
    "# シーン毎に分割するので、groupbyして取り出す\n",
    "file, person = [], []\n",
    "for g in df.groupby(df['scene']):\n",
    "    file.append(g[1].file.values.tolist())\n",
    "    person.append(g[1].person.values.tolist())\n",
    "\n",
    "#print(file)\n",
    "#print(person)"
   ]
  },
  {
   "cell_type": "code",
   "execution_count": 8,
   "id": "d3460519",
   "metadata": {
    "execution": {
     "iopub.execute_input": "2022-05-26T02:04:01.493394Z",
     "iopub.status.busy": "2022-05-26T02:04:01.492979Z",
     "iopub.status.idle": "2022-05-26T02:04:01.500769Z",
     "shell.execute_reply": "2022-05-26T02:04:01.499865Z"
    },
    "papermill": {
     "duration": 0.057581,
     "end_time": "2022-05-26T02:04:01.506364",
     "exception": false,
     "start_time": "2022-05-26T02:04:01.448783",
     "status": "completed"
    },
    "tags": []
   },
   "outputs": [],
   "source": [
    "# シーン毎に学習用と評価用データに分ける\n",
    "train_X, test_X, train_y, test_y = train_test_split(file, person, test_size=0.3, random_state=0)"
   ]
  },
  {
   "cell_type": "code",
   "execution_count": 9,
   "id": "593f7634",
   "metadata": {
    "execution": {
     "iopub.execute_input": "2022-05-26T02:04:01.592984Z",
     "iopub.status.busy": "2022-05-26T02:04:01.592488Z",
     "iopub.status.idle": "2022-05-26T02:04:01.615021Z",
     "shell.execute_reply": "2022-05-26T02:04:01.614161Z"
    },
    "papermill": {
     "duration": 0.069788,
     "end_time": "2022-05-26T02:04:01.618653",
     "exception": false,
     "start_time": "2022-05-26T02:04:01.548865",
     "status": "completed"
    },
    "tags": []
   },
   "outputs": [],
   "source": [
    "# 全てのシーン内のデータを繋げた配列にする\n",
    "train_X = sum(train_X, [])\n",
    "train_y = sum(train_y, [])\n",
    "test_X = sum(test_X, [])\n",
    "test_y = sum(test_y, [])"
   ]
  },
  {
   "cell_type": "code",
   "execution_count": 10,
   "id": "acb0bbe5",
   "metadata": {
    "execution": {
     "iopub.execute_input": "2022-05-26T02:04:01.708699Z",
     "iopub.status.busy": "2022-05-26T02:04:01.708409Z",
     "iopub.status.idle": "2022-05-26T02:04:01.728493Z",
     "shell.execute_reply": "2022-05-26T02:04:01.727527Z"
    },
    "papermill": {
     "duration": 0.067051,
     "end_time": "2022-05-26T02:04:01.731589",
     "exception": false,
     "start_time": "2022-05-26T02:04:01.664538",
     "status": "completed"
    },
    "tags": []
   },
   "outputs": [],
   "source": [
    "# データセットをクラスで定義する\n",
    "class MyDataset:\n",
    "    def __init__(self, file_name_list, label_list, valid=False):\n",
    "        # 初期化\n",
    "        self.file_name_list = file_name_list\n",
    "        self.label_list = label_list\n",
    "        if not valid: # 学習用ならデータの水増しを含んだtransformを作る\n",
    "            transform = [\n",
    "                transforms.Resize((224,224)),\n",
    "                transforms.ColorJitter(brightness=1.0),\n",
    "                transforms.RandomGrayscale(0.1),\n",
    "                transforms.ToTensor(),\n",
    "                transforms.RandomErasing(),\n",
    "                transforms.Normalize(mean=[0.485, 0.456, 0.406],\n",
    "                                     std=[0.229, 0.224, 0.225])\n",
    "            ]\n",
    "        else: # 評価時にはデータの水増しを含まないtransformを作る\n",
    "            transform = [\n",
    "                transforms.Resize((224,224)),\n",
    "                transforms.ToTensor(),\n",
    "                transforms.Normalize(mean=[0.485, 0.456, 0.406],\n",
    "                                     std=[0.229, 0.224, 0.225])\n",
    "            ]\n",
    "        self.transform = transforms.Compose(transform)\n",
    "\n",
    "    def __len__(self):\n",
    "        # データセットの長さを返す\n",
    "        return len(self.file_name_list)\n",
    "\n",
    "    def __getitem__(self, index):\n",
    "        # indexの場所にあるデータを返す\n",
    "        image_path = INPUT_DIR + self.file_name_list[index] # ファイルパス\n",
    "        img = Image.open(image_path) # ファイルを読み込む\n",
    "        img = self.transform(img) # データ水増ししてtensorにする\n",
    "        label = self.label_list[index]\n",
    "        return img, label"
   ]
  },
  {
   "cell_type": "code",
   "execution_count": 11,
   "id": "927c769c",
   "metadata": {
    "execution": {
     "iopub.execute_input": "2022-05-26T02:04:01.809488Z",
     "iopub.status.busy": "2022-05-26T02:04:01.808635Z",
     "iopub.status.idle": "2022-05-26T02:04:01.815413Z",
     "shell.execute_reply": "2022-05-26T02:04:01.814584Z"
    },
    "papermill": {
     "duration": 0.049772,
     "end_time": "2022-05-26T02:04:01.820016",
     "exception": false,
     "start_time": "2022-05-26T02:04:01.770244",
     "status": "completed"
    },
    "tags": []
   },
   "outputs": [],
   "source": [
    "def get_model(): # ニューラルネットワークのモデルを返す関数\n",
    "    \n",
    "    # ModelZOOからモデルをダウンロードして最後の層だけを入れ替える\n",
    "    model = models.resnet50(pretrained=True)\n",
    "    model.fc = nn.Linear(2048, 2) # 出力の数＝2にする\n",
    "    model = model.to(USE_DEVICE) # GPUを使うときはGPUメモリ上に乗せる\n",
    "    \n",
    "    return model"
   ]
  },
  {
   "cell_type": "code",
   "execution_count": 12,
   "id": "912fb348",
   "metadata": {
    "execution": {
     "iopub.execute_input": "2022-05-26T02:04:01.892613Z",
     "iopub.status.busy": "2022-05-26T02:04:01.892338Z",
     "iopub.status.idle": "2022-05-26T02:04:01.897064Z",
     "shell.execute_reply": "2022-05-26T02:04:01.896192Z"
    },
    "papermill": {
     "duration": 0.043011,
     "end_time": "2022-05-26T02:04:01.899678",
     "exception": false,
     "start_time": "2022-05-26T02:04:01.856667",
     "status": "completed"
    },
    "tags": []
   },
   "outputs": [],
   "source": [
    "def get_optim(model, lr): # 勾配降下法のアルゴリズムを返す関数\n",
    "    params = model.parameters() # 学習させるパラメーター\n",
    "    optimizer = optim.SGD(params, lr=lr,  momentum=0.9) # 学習率を設定\n",
    "    return optimizer"
   ]
  },
  {
   "cell_type": "code",
   "execution_count": 13,
   "id": "a2eaef78",
   "metadata": {
    "execution": {
     "iopub.execute_input": "2022-05-26T02:04:01.940067Z",
     "iopub.status.busy": "2022-05-26T02:04:01.939814Z",
     "iopub.status.idle": "2022-05-26T02:04:01.944856Z",
     "shell.execute_reply": "2022-05-26T02:04:01.944048Z"
    },
    "papermill": {
     "duration": 0.027458,
     "end_time": "2022-05-26T02:04:01.946804",
     "exception": false,
     "start_time": "2022-05-26T02:04:01.919346",
     "status": "completed"
    },
    "tags": []
   },
   "outputs": [],
   "source": [
    "def get_loss(weight): # 損失関数を返す関数\n",
    "    \n",
    "    # 不均衡なデータを学習させるために、クラス毎のウェイトを設定する\n",
    "    weight = torch.tensor([1.0-weight,weight], dtype=torch.float)\n",
    "    weight = weight.to(USE_DEVICE) # GPUを使うときはGPUメモリ上に乗せる\n",
    "    loss = nn.CrossEntropyLoss(weight=weight) # ウェイト付きのCrossEntropy\n",
    "    \n",
    "    return loss"
   ]
  },
  {
   "cell_type": "code",
   "execution_count": 14,
   "id": "45210a49",
   "metadata": {
    "execution": {
     "iopub.execute_input": "2022-05-26T02:04:01.990825Z",
     "iopub.status.busy": "2022-05-26T02:04:01.990047Z",
     "iopub.status.idle": "2022-05-26T02:04:01.999807Z",
     "shell.execute_reply": "2022-05-26T02:04:01.998933Z"
    },
    "papermill": {
     "duration": 0.034202,
     "end_time": "2022-05-26T02:04:02.001954",
     "exception": false,
     "start_time": "2022-05-26T02:04:01.967752",
     "status": "completed"
    },
    "tags": []
   },
   "outputs": [],
   "source": [
    "def get_score(true_valid, pred_valid): # 評価スコアを返す関数\n",
    "    \n",
    "    # 評価スコアは、全体の他に時間帯毎にも作成するのでディクショナリを用意する\n",
    "    timezone = {'daytime':([],[]),'twilight':([],[]),'midnight':([],[])}\n",
    "    \n",
    "    # 認識結果を時間帯毎に仕分けする\n",
    "    for i, filename in enumerate(test_X):\n",
    "        w = df[df['file']==filename].when.values[0]\n",
    "        timezone[w][0].append(true_valid[i])\n",
    "        timezone[w][1].append(pred_valid[i])\n",
    "    \n",
    "    # 時間帯毎のF1スコアをディクショナリに入れる\n",
    "    score = {k:f1_score(v[0], v[1]) for k,v in timezone.items()}\n",
    "    \n",
    "    # 全体のF1スコアをディクショナリに入れる\n",
    "    score['total'] = f1_score(true_valid, pred_valid)\n",
    "    \n",
    "    # 認識が極端に偏ってないか見るために、認識値の平均も求める\n",
    "    score['average'] = np.mean(pred_valid)\n",
    "    \n",
    "    return score"
   ]
  },
  {
   "cell_type": "code",
   "execution_count": 15,
   "id": "e8da908b",
   "metadata": {
    "execution": {
     "iopub.execute_input": "2022-05-26T02:04:02.050541Z",
     "iopub.status.busy": "2022-05-26T02:04:02.050263Z",
     "iopub.status.idle": "2022-05-26T02:04:02.055521Z",
     "shell.execute_reply": "2022-05-26T02:04:02.054748Z"
    },
    "papermill": {
     "duration": 0.032361,
     "end_time": "2022-05-26T02:04:02.057688",
     "exception": false,
     "start_time": "2022-05-26T02:04:02.025327",
     "status": "completed"
    },
    "tags": []
   },
   "outputs": [],
   "source": [
    "# 学習時と評価時のバッチサイズ\n",
    "BATCH_SIZE = 16\n",
    "BATCH_SIZE_VALID = 4\n",
    "\n",
    "# データの読み込みスレッドの数\n",
    "NUM_WORKERS = 2\n",
    "\n",
    "# 試行時の学習エポック数\n",
    "NUM_EPOCHS = 5\n",
    "\n",
    "# 評価で試す学習率\n",
    "LR_TESTS = [1e-3, 2e-4, 5e-5]\n",
    "\n",
    "# 試すウェイトは、人物の方が分散が大きいので、クラス1側を0.5より少なくする\n",
    "WEIGHT_TESTS = [0.1, 0.2, 0.3, 0.4, 0.5]"
   ]
  },
  {
   "cell_type": "code",
   "execution_count": 16,
   "id": "06779cf7",
   "metadata": {
    "execution": {
     "iopub.execute_input": "2022-05-26T02:04:02.104722Z",
     "iopub.status.busy": "2022-05-26T02:04:02.104010Z",
     "iopub.status.idle": "2022-05-26T02:04:02.109887Z",
     "shell.execute_reply": "2022-05-26T02:04:02.108971Z"
    },
    "papermill": {
     "duration": 0.0312,
     "end_time": "2022-05-26T02:04:02.111897",
     "exception": false,
     "start_time": "2022-05-26T02:04:02.080697",
     "status": "completed"
    },
    "tags": []
   },
   "outputs": [],
   "source": [
    "# 学習用と評価用にデータセットを作る\n",
    "train_dataset = MyDataset(train_X, train_y)\n",
    "test_dataset = MyDataset(test_X, test_y, True)"
   ]
  },
  {
   "cell_type": "code",
   "execution_count": 17,
   "id": "b68810f5",
   "metadata": {
    "execution": {
     "iopub.execute_input": "2022-05-26T02:04:02.158455Z",
     "iopub.status.busy": "2022-05-26T02:04:02.158214Z",
     "iopub.status.idle": "2022-05-26T02:04:02.164018Z",
     "shell.execute_reply": "2022-05-26T02:04:02.163047Z"
    },
    "papermill": {
     "duration": 0.030977,
     "end_time": "2022-05-26T02:04:02.166284",
     "exception": false,
     "start_time": "2022-05-26T02:04:02.135307",
     "status": "completed"
    },
    "tags": []
   },
   "outputs": [],
   "source": [
    "# 複数スレッドでファイルを読み込みつつデータを取り出すDataLoaderを作る\n",
    "train_dataloader = utils.data.DataLoader(\n",
    "    train_dataset, batch_size=BATCH_SIZE, shuffle=True, num_workers=NUM_WORKERS)\n",
    "\n",
    "valid_dataloader = utils.data.DataLoader(\n",
    "    test_dataset, batch_size=BATCH_SIZE_VALID, shuffle=False, num_workers=NUM_WORKERS)"
   ]
  },
  {
   "cell_type": "code",
   "execution_count": 18,
   "id": "637e6d41",
   "metadata": {
    "execution": {
     "iopub.execute_input": "2022-05-26T02:04:02.212661Z",
     "iopub.status.busy": "2022-05-26T02:04:02.212443Z",
     "iopub.status.idle": "2022-05-26T10:07:24.566437Z",
     "shell.execute_reply": "2022-05-26T10:07:24.565477Z"
    },
    "papermill": {
     "duration": 29002.379766,
     "end_time": "2022-05-26T10:07:24.568973",
     "exception": false,
     "start_time": "2022-05-26T02:04:02.189207",
     "status": "completed"
    },
    "tags": []
   },
   "outputs": [
    {
     "name": "stderr",
     "output_type": "stream",
     "text": [
      "Downloading: \"https://download.pytorch.org/models/resnet50-0676ba61.pth\" to /root/.cache/torch/hub/checkpoints/resnet50-0676ba61.pth\n"
     ]
    },
    {
     "data": {
      "application/vnd.jupyter.widget-view+json": {
       "model_id": "29fc50cc8123449cabbfb5ed11f5c2c3",
       "version_major": 2,
       "version_minor": 0
      },
      "text/plain": [
       "  0%|          | 0.00/97.8M [00:00<?, ?B/s]"
      ]
     },
     "metadata": {},
     "output_type": "display_data"
    },
    {
     "name": "stdout",
     "output_type": "stream",
     "text": [
      "test #0 lr=0.001 weight=0.1\n",
      "========================\n",
      "epoch #1: train_loss:0.2285 valid_loss:0.7494 score:{'daytime': 0.9158730158730158, 'twilight': 0.4869325997248969, 'midnight': 0.6593607305936073, 'total': 0.7854263102881888, 'average': 0.509406392694064}\n",
      "--------------------------------------------\n",
      "epoch #2: train_loss:0.1126 valid_loss:0.6142 score:{'daytime': 0.8810469735919608, 'twilight': 0.6568986568986569, 'midnight': 0.9088256746900073, 'total': 0.8673469387755103, 'average': 0.7181735159817352}\n",
      "--------------------------------------------\n",
      "epoch #3: train_loss:0.0850 valid_loss:0.9189 score:{'daytime': 0.7732974910394266, 'twilight': 0.6634382566585957, 'midnight': 0.9094858797972484, 'total': 0.8087431693989071, 'average': 0.7568949771689498}\n",
      "--------------------------------------------\n",
      "epoch #4: train_loss:0.0723 valid_loss:1.0777 score:{'daytime': 0.806332682715246, 'twilight': 0.59514687100894, 'midnight': 0.9159970781592404, 'total': 0.8229217904574521, 'average': 0.7715068493150685}\n",
      "--------------------------------------------\n",
      "epoch #5: train_loss:0.0752 valid_loss:1.3715 score:{'daytime': 0.8047722342733188, 'twilight': 0.6536107711138311, 'midnight': 0.9282365668950595, 'total': 0.8314634146341463, 'average': 0.7839269406392694}\n",
      "--------------------------------------------\n",
      "test #1 lr=0.001 weight=0.2\n",
      "========================\n",
      "epoch #1: train_loss:0.2673 valid_loss:0.4242 score:{'daytime': 0.8517397881996974, 'twilight': 0.6991869918699186, 'midnight': 0.8885564697083022, 'total': 0.8473536861751766, 'average': 0.656255707762557}\n",
      "--------------------------------------------\n",
      "epoch #2: train_loss:0.1322 valid_loss:0.9263 score:{'daytime': 0.8187134502923977, 'twilight': 0.6601941747572816, 'midnight': 0.9057437407952872, 'total': 0.8316783131053083, 'average': 0.7760730593607306}\n",
      "--------------------------------------------\n",
      "epoch #3: train_loss:0.0946 valid_loss:0.5633 score:{'daytime': 0.8385693571773803, 'twilight': 0.6666666666666666, 'midnight': 0.9309352517985612, 'total': 0.8533436612445133, 'average': 0.7010045662100457}\n",
      "--------------------------------------------\n",
      "epoch #4: train_loss:0.0817 valid_loss:1.1699 score:{'daytime': 0.8121238177128117, 'twilight': 0.6778846153846153, 'midnight': 0.9399496583962603, 'total': 0.84162129461585, 'average': 0.7957990867579908}\n",
      "--------------------------------------------\n",
      "epoch #5: train_loss:0.0714 valid_loss:1.1302 score:{'daytime': 0.8128893662728249, 'twilight': 0.7087719298245614, 'midnight': 0.9567682494684621, 'total': 0.8509361497839654, 'average': 0.8080365296803653}\n",
      "--------------------------------------------\n",
      "test #2 lr=0.001 weight=0.3\n",
      "========================\n",
      "epoch #1: train_loss:0.2892 valid_loss:0.4667 score:{'daytime': 0.962536023054755, 'twilight': 0.5583224115334208, 'midnight': 0.8635312259059368, 'total': 0.8837468636743796, 'average': 0.5965296803652969}\n",
      "--------------------------------------------\n",
      "epoch #2: train_loss:0.1350 valid_loss:1.0061 score:{'daytime': 0.7794150986170936, 'twilight': 0.6267166042446941, 'midnight': 0.8637413394919169, 'total': 0.7918053777208707, 'average': 0.7126940639269407}\n",
      "--------------------------------------------\n",
      "epoch #3: train_loss:0.0975 valid_loss:0.9703 score:{'daytime': 0.8084555651423642, 'twilight': 0.6838407494145199, 'midnight': 0.9475157452764171, 'total': 0.8433157642549114, 'average': 0.810958904109589}\n",
      "--------------------------------------------\n",
      "epoch #4: train_loss:0.0875 valid_loss:1.2156 score:{'daytime': 0.7977973568281939, 'twilight': 0.6436498150431565, 'midnight': 0.9327731092436974, 'total': 0.8295357621542585, 'average': 0.7852054794520548}\n",
      "--------------------------------------------\n",
      "epoch #5: train_loss:0.0812 valid_loss:1.5017 score:{'daytime': 0.7623116707892962, 'twilight': 0.6568986568986569, 'midnight': 0.9342806394316162, 'total': 0.8115332260858805, 'average': 0.7621917808219179}\n",
      "--------------------------------------------\n",
      "test #3 lr=0.001 weight=0.4\n",
      "========================\n",
      "epoch #1: train_loss:0.2835 valid_loss:0.3817 score:{'daytime': 0.948051948051948, 'twilight': 0.6285714285714287, 'midnight': 0.9331436699857752, 'total': 0.9079951787866614, 'average': 0.6500456621004567}\n",
      "--------------------------------------------\n",
      "epoch #2: train_loss:0.1310 valid_loss:0.6265 score:{'daytime': 0.8427392371180015, 'twilight': 0.6706730769230769, 'midnight': 0.8973782771535581, 'total': 0.8430807764558547, 'average': 0.7446575342465753}\n",
      "--------------------------------------------\n",
      "epoch #3: train_loss:0.1041 valid_loss:0.5026 score:{'daytime': 0.864775413711584, 'twilight': 0.6248775710088148, 'midnight': 0.9375223134594788, 'total': 0.8596621957277695, 'average': 0.7568949771689498}\n",
      "--------------------------------------------\n",
      "epoch #4: train_loss:0.0867 valid_loss:1.0725 score:{'daytime': 0.8083819399438325, 'twilight': 0.6738868832731647, 'midnight': 0.9440684004275026, 'total': 0.8409338333131727, 'average': 0.7961643835616439}\n",
      "--------------------------------------------\n",
      "epoch #5: train_loss:0.0808 valid_loss:1.4883 score:{'daytime': 0.8033817472360719, 'twilight': 0.6402966625463535, 'midnight': 0.9284195605953226, 'total': 0.8301795245026685, 'average': 0.7919634703196347}\n",
      "--------------------------------------------\n",
      "test #4 lr=0.001 weight=0.5\n",
      "========================\n",
      "epoch #1: train_loss:0.2693 valid_loss:0.7973 score:{'daytime': 0.8128893662728249, 'twilight': 0.6903073286052009, 'midnight': 0.8376470588235295, 'total': 0.8078499565271394, 'average': 0.7567123287671232}\n",
      "--------------------------------------------\n",
      "epoch #2: train_loss:0.1239 valid_loss:0.9193 score:{'daytime': 0.8246113422377928, 'twilight': 0.6888361045130642, 'midnight': 0.924762600438276, 'total': 0.8442371425064441, 'average': 0.7742465753424658}\n",
      "--------------------------------------------\n",
      "epoch #3: train_loss:0.1002 valid_loss:0.9516 score:{'daytime': 0.813763440860215, 'twilight': 0.6872146118721462, 'midnight': 0.9388335704125178, 'total': 0.8426481170544494, 'average': 0.8091324200913242}\n",
      "--------------------------------------------\n",
      "epoch #4: train_loss:0.0809 valid_loss:1.3477 score:{'daytime': 0.8128893662728249, 'twilight': 0.6469864698646987, 'midnight': 0.9577269577269578, 'total': 0.8467799856356236, 'average': 0.812054794520548}\n",
      "--------------------------------------------\n",
      "epoch #5: train_loss:0.0779 valid_loss:1.8532 score:{'daytime': 0.8128893662728249, 'twilight': 0.6568986568986569, 'midnight': 0.9415470773538677, 'total': 0.8416756691873725, 'average': 0.8078538812785389}\n",
      "--------------------------------------------\n",
      "test #5 lr=0.0002 weight=0.1\n",
      "========================\n",
      "epoch #1: train_loss:0.3633 valid_loss:0.4591 score:{'daytime': 0.8919472913616397, 'twilight': 0.47172413793103457, 'midnight': 0.8696993060909792, 'total': 0.838134838134838, 'average': 0.5161643835616438}\n",
      "--------------------------------------------\n",
      "epoch #2: train_loss:0.1631 valid_loss:0.4739 score:{'daytime': 0.9137254901960784, 'twilight': 0.6354679802955665, 'midnight': 0.8965517241379309, 'total': 0.8777777777777778, 'average': 0.6670319634703197}\n",
      "--------------------------------------------\n",
      "epoch #3: train_loss:0.1172 valid_loss:0.5981 score:{'daytime': 0.8205482607694079, 'twilight': 0.602287166454892, 'midnight': 0.9282700421940927, 'total': 0.8374310085298544, 'average': 0.742283105022831}\n",
      "--------------------------------------------\n",
      "epoch #4: train_loss:0.0986 valid_loss:0.7393 score:{'daytime': 0.7986531986531987, 'twilight': 0.5583224115334208, 'midnight': 0.9222948438634713, 'total': 0.8183642749623682, 'average': 0.742283105022831}\n",
      "--------------------------------------------\n",
      "epoch #5: train_loss:0.0817 valid_loss:0.8617 score:{'daytime': 0.8094823836450631, 'twilight': 0.596938775510204, 'midnight': 0.925090909090909, 'total': 0.8280865715691097, 'average': 0.7715068493150685}\n",
      "--------------------------------------------\n",
      "test #6 lr=0.0002 weight=0.2\n",
      "========================\n",
      "epoch #1: train_loss:0.4136 valid_loss:0.3671 score:{'daytime': 0.9519337016574586, 'twilight': 0.5849297573435505, 'midnight': 0.9164818920916481, 'total': 0.8980165986777324, 'average': 0.5846575342465753}\n",
      "--------------------------------------------\n",
      "epoch #2: train_loss:0.1883 valid_loss:0.4425 score:{'daytime': 0.8920454545454545, 'twilight': 0.6251556662515567, 'midnight': 0.9453513129879347, 'total': 0.8838750796685787, 'average': 0.7190867579908676}\n",
      "--------------------------------------------\n",
      "epoch #3: train_loss:0.1353 valid_loss:0.5202 score:{'daytime': 0.8654666035054477, 'twilight': 0.5997490589711417, 'midnight': 0.944503358077059, 'total': 0.8669724770642202, 'average': 0.719634703196347}\n",
      "--------------------------------------------\n",
      "epoch #4: train_loss:0.1144 valid_loss:0.7444 score:{'daytime': 0.8125956702383555, 'twilight': 0.5732814526588845, 'midnight': 0.9510985116938341, 'total': 0.8378643154543228, 'average': 0.777716894977169}\n",
      "--------------------------------------------\n",
      "epoch #5: train_loss:0.0955 valid_loss:0.9843 score:{'daytime': 0.8131584605461192, 'twilight': 0.6462668298653611, 'midnight': 0.9480427046263346, 'total': 0.8424740275428847, 'average': 0.7981735159817351}\n",
      "--------------------------------------------\n",
      "test #7 lr=0.0002 weight=0.3\n",
      "========================\n",
      "epoch #1: train_loss:0.4267 valid_loss:0.3089 score:{'daytime': 0.9492934330839568, 'twilight': 0.6080402010050251, 'midnight': 0.9386590584878745, 'total': 0.9074767651546678, 'average': 0.6029223744292237}\n",
      "--------------------------------------------\n",
      "epoch #2: train_loss:0.1926 valid_loss:0.5703 score:{'daytime': 0.8357062146892656, 'twilight': 0.6730769230769231, 'midnight': 0.9324618736383442, 'total': 0.8520783922107102, 'average': 0.749406392694064}\n",
      "--------------------------------------------\n",
      "epoch #3: train_loss:0.1419 valid_loss:0.4244 score:{'daytime': 0.8663946965833759, 'twilight': 0.6824085005903188, 'midnight': 0.9642365887207702, 'total': 0.8831574833919501, 'average': 0.6884018264840183}\n",
      "--------------------------------------------\n",
      "epoch #4: train_loss:0.1209 valid_loss:0.8877 score:{'daytime': 0.79973678438254, 'twilight': 0.6568986568986569, 'midnight': 0.9579130434782608, 'total': 0.8406640009693445, 'average': 0.7936073059360731}\n",
      "--------------------------------------------\n",
      "epoch #5: train_loss:0.1019 valid_loss:0.9984 score:{'daytime': 0.8048568950563746, 'twilight': 0.6568986568986569, 'midnight': 0.9364908503767493, 'total': 0.8347529812606473, 'average': 0.7872146118721461}\n",
      "--------------------------------------------\n",
      "test #8 lr=0.0002 weight=0.4\n",
      "========================\n",
      "epoch #1: train_loss:0.4226 valid_loss:0.2934 score:{'daytime': 0.9516708091687379, 'twilight': 0.6108374384236454, 'midnight': 0.9424307036247335, 'total': 0.9098937491375743, 'average': 0.6098630136986302}\n",
      "--------------------------------------------\n",
      "epoch #2: train_loss:0.1936 valid_loss:0.4286 score:{'daytime': 0.8869033623324712, 'twilight': 0.6746698679471788, 'midnight': 0.9604756908009793, 'total': 0.8911264946507237, 'average': 0.737351598173516}\n",
      "--------------------------------------------\n",
      "epoch #3: train_loss:0.1433 valid_loss:0.4539 score:{'daytime': 0.8738988170148503, 'twilight': 0.6521212121212121, 'midnight': 0.9319899244332495, 'total': 0.8710571466279531, 'average': 0.6701369863013699}\n",
      "--------------------------------------------\n",
      "epoch #4: train_loss:0.1194 valid_loss:0.6429 score:{'daytime': 0.8193202146690519, 'twilight': 0.6730769230769231, 'midnight': 0.967519004837595, 'total': 0.8567943400829471, 'average': 0.7835616438356164}\n",
      "--------------------------------------------\n",
      "epoch #5: train_loss:0.1018 valid_loss:0.9235 score:{'daytime': 0.806979280261723, 'twilight': 0.6568986568986569, 'midnight': 0.9298626174981923, 'total': 0.8335373317013463, 'average': 0.7784474885844749}\n",
      "--------------------------------------------\n",
      "test #9 lr=0.0002 weight=0.5\n",
      "========================\n",
      "epoch #1: train_loss:0.4104 valid_loss:0.3012 score:{'daytime': 0.9380771319934819, 'twilight': 0.655813953488372, 'midnight': 0.9367448471926083, 'total': 0.9045676998368679, 'average': 0.6297716894977169}\n",
      "--------------------------------------------\n",
      "epoch #2: train_loss:0.1915 valid_loss:0.6328 score:{'daytime': 0.8207916485428447, 'twilight': 0.6937354988399073, 'midnight': 0.9422665716322167, 'total': 0.8487781272683281, 'average': 0.7959817351598174}\n",
      "--------------------------------------------\n",
      "epoch #3: train_loss:0.1389 valid_loss:0.6212 score:{'daytime': 0.7865013774104682, 'twilight': 0.6737588652482269, 'midnight': 0.9588850174216027, 'total': 0.83597621407334, 'average': 0.7605479452054794}\n",
      "--------------------------------------------\n",
      "epoch #4: train_loss:0.1167 valid_loss:0.8301 score:{'daytime': 0.7870535714285715, 'twilight': 0.656934306569343, 'midnight': 0.9587883057414582, 'total': 0.8338042009581133, 'average': 0.7731506849315068}\n",
      "--------------------------------------------\n",
      "epoch #5: train_loss:0.0978 valid_loss:1.3249 score:{'daytime': 0.7691620111731845, 'twilight': 0.6536107711138311, 'midnight': 0.9363995688106361, 'total': 0.815108359133127, 'average': 0.7610958904109589}\n",
      "--------------------------------------------\n",
      "test #10 lr=5e-05 weight=0.1\n",
      "========================\n",
      "epoch #1: train_loss:0.4774 valid_loss:1.1317 score:{'daytime': 0.0010565240359218173, 'twilight': 0.0, 'midnight': 0.0, 'total': 0.0005115089514066497, 'average': 0.00036529680365296805}\n",
      "--------------------------------------------\n",
      "epoch #2: train_loss:0.3992 valid_loss:0.8053 score:{'daytime': 0.6026587887740029, 'twilight': 0.32980332829046893, 'midnight': 0.5258924082453494, 'total': 0.5405001866368048, 'average': 0.2648401826484018}\n",
      "--------------------------------------------\n",
      "epoch #3: train_loss:0.2937 valid_loss:0.5792 score:{'daytime': 0.8497723823975721, 'twilight': 0.38737446197991393, 'midnight': 0.8360460500198491, 'total': 0.7949623713715251, 'average': 0.4754337899543379}\n",
      "--------------------------------------------\n",
      "epoch #4: train_loss:0.2230 valid_loss:0.4972 score:{'daytime': 0.9124860646599777, 'twilight': 0.47237569060773477, 'midnight': 0.8759571209800919, 'total': 0.8526863084922011, 'average': 0.5508675799086759}\n",
      "--------------------------------------------\n",
      "epoch #5: train_loss:0.1805 valid_loss:0.4749 score:{'daytime': 0.9381949831911043, 'twilight': 0.5338645418326693, 'midnight': 0.8939051918735891, 'total': 0.8801868645232206, 'average': 0.6155251141552511}\n",
      "--------------------------------------------\n",
      "test #11 lr=5e-05 weight=0.2\n",
      "========================\n",
      "epoch #1: train_loss:0.5966 valid_loss:0.8303 score:{'daytime': 0.3654427645788337, 'twilight': 0.19602977667493796, 'midnight': 0.27427898763978814, 'total': 0.3049792531120332, 'average': 0.16657534246575342}\n",
      "--------------------------------------------\n",
      "epoch #2: train_loss:0.4361 valid_loss:0.4873 score:{'daytime': 0.9042522418281747, 'twilight': 0.44029850746268656, 'midnight': 0.813915857605178, 'total': 0.8156839447497402, 'average': 0.5159817351598174}\n",
      "--------------------------------------------\n",
      "epoch #3: train_loss:0.2978 valid_loss:0.3762 score:{'daytime': 0.9242553191489362, 'twilight': 0.5482625482625483, 'midnight': 0.9107011070110701, 'total': 0.8773531089560753, 'average': 0.5669406392694064}\n",
      "--------------------------------------------\n",
      "epoch #4: train_loss:0.2363 valid_loss:0.3966 score:{'daytime': 0.9237439428717164, 'twilight': 0.5658914728682171, 'midnight': 0.9129793510324484, 'total': 0.8824085324692859, 'average': 0.6390867579908676}\n",
      "--------------------------------------------\n",
      "epoch #5: train_loss:0.1971 valid_loss:0.4666 score:{'daytime': 0.8932272836828151, 'twilight': 0.5827984595635429, 'midnight': 0.900523560209424, 'total': 0.8639831623257036, 'average': 0.6747031963470319}\n",
      "--------------------------------------------\n",
      "test #12 lr=5e-05 weight=0.3\n",
      "========================\n",
      "epoch #1: train_loss:0.6273 valid_loss:0.6748 score:{'daytime': 0.7229159635504557, 'twilight': 0.288056206088993, 'midnight': 0.611084793936523, 'total': 0.6204453441295548, 'average': 0.3689497716894977}\n",
      "--------------------------------------------\n",
      "epoch #2: train_loss:0.4329 valid_loss:0.4042 score:{'daytime': 0.9228169014084507, 'twilight': 0.4451901565995526, 'midnight': 0.8727412533640908, 'total': 0.8437189496096522, 'average': 0.5729680365296803}\n",
      "--------------------------------------------\n",
      "epoch #3: train_loss:0.2994 valid_loss:0.3324 score:{'daytime': 0.9381472152253009, 'twilight': 0.5725190839694657, 'midnight': 0.9328545780969479, 'total': 0.8958566629339305, 'average': 0.5910502283105022}\n",
      "--------------------------------------------\n",
      "epoch #4: train_loss:0.2421 valid_loss:0.3896 score:{'daytime': 0.8938465310125031, 'twilight': 0.6040100250626567, 'midnight': 0.9296591733139956, 'total': 0.8764898493778651, 'average': 0.6807305936073059}\n",
      "--------------------------------------------\n",
      "epoch #5: train_loss:0.2022 valid_loss:0.5160 score:{'daytime': 0.8525641025641025, 'twilight': 0.6027742749054223, 'midnight': 0.9205419260344196, 'total': 0.8509883426254435, 'average': 0.7276712328767123}\n",
      "--------------------------------------------\n",
      "test #13 lr=5e-05 weight=0.4\n",
      "========================\n",
      "epoch #1: train_loss:0.6183 valid_loss:0.5952 score:{'daytime': 0.8727060879697057, 'twilight': 0.4143007360672976, 'midnight': 0.7950819672131149, 'total': 0.7810668229777257, 'average': 0.5326027397260275}\n",
      "--------------------------------------------\n",
      "epoch #2: train_loss:0.4304 valid_loss:0.3846 score:{'daytime': 0.9258639910813825, 'twilight': 0.4905660377358491, 'midnight': 0.8666408967916506, 'total': 0.8434976329713172, 'average': 0.5979908675799087}\n",
      "--------------------------------------------\n",
      "epoch #3: train_loss:0.3020 valid_loss:0.3229 score:{'daytime': 0.9379348733648761, 'twilight': 0.5651644336175395, 'midnight': 0.924762600438276, 'total': 0.8901006711409396, 'average': 0.5925114155251141}\n",
      "--------------------------------------------\n",
      "epoch #4: train_loss:0.2437 valid_loss:0.3661 score:{'daytime': 0.8862421001458435, 'twilight': 0.6165228113440198, 'midnight': 0.9490196078431372, 'total': 0.8807244501940492, 'average': 0.6980821917808219}\n",
      "--------------------------------------------\n",
      "epoch #5: train_loss:0.2016 valid_loss:0.5473 score:{'daytime': 0.8387819077474251, 'twilight': 0.6134663341645884, 'midnight': 0.9313974591651543, 'total': 0.8480618222609997, 'average': 0.7515981735159817}\n",
      "--------------------------------------------\n",
      "test #14 lr=5e-05 weight=0.5\n",
      "========================\n",
      "epoch #1: train_loss:0.5823 valid_loss:0.5517 score:{'daytime': 0.8678851174934726, 'twilight': 0.6402753872633391, 'midnight': 0.8909413854351687, 'total': 0.8423209939797619, 'average': 0.7121461187214612}\n",
      "--------------------------------------------\n",
      "epoch #2: train_loss:0.4191 valid_loss:0.3759 score:{'daytime': 0.9156293222683264, 'twilight': 0.5588235294117647, 'midnight': 0.8935849056603774, 'total': 0.854889160886713, 'average': 0.6292237442922375}\n",
      "--------------------------------------------\n",
      "epoch #3: train_loss:0.2988 valid_loss:0.3096 score:{'daytime': 0.934408004446915, 'twilight': 0.5221143473570657, 'midnight': 0.936800288912965, 'total': 0.8829174664107485, 'average': 0.6184474885844748}\n",
      "--------------------------------------------\n",
      "epoch #4: train_loss:0.2393 valid_loss:0.3733 score:{'daytime': 0.8653613729755861, 'twilight': 0.6216867469879518, 'midnight': 0.9546099290780142, 'total': 0.8717092590214461, 'average': 0.7084931506849315}\n",
      "--------------------------------------------\n",
      "epoch #5: train_loss:0.1998 valid_loss:0.5162 score:{'daytime': 0.8397839783978399, 'twilight': 0.6273062730627307, 'midnight': 0.9326574945691527, 'total': 0.8502307020825539, 'average': 0.7508675799086758}\n",
      "--------------------------------------------\n"
     ]
    }
   ],
   "source": [
    "# 試行時の最も評価が良かったスコアのリスト\n",
    "best_scores = []\n",
    "\n",
    "# 学習率とウェイトを変えながら試行する\n",
    "for t, (lr, weight) in enumerate(itertools.product(LR_TESTS, WEIGHT_TESTS)):\n",
    "    # 試行毎に乱数を初期化してからニューラルネットワークを作成する\n",
    "    init_seed()\n",
    "    model = get_model() # ニューラルネットワークを作成\n",
    "    # 学習のためのアルゴリズムを取得\n",
    "    optimizer = get_optim(model, lr)\n",
    "    loss = get_loss(weight)\n",
    "\n",
    "    # 現在の学習率とウェイトで試行する\n",
    "    print(f'test #{t} lr={lr} weight={weight}')\n",
    "    print('========================')\n",
    "    \n",
    "    scores = [] # 各エポック終了時のスコア\n",
    "\n",
    "    # 学習ループ\n",
    "    for epoch in range(NUM_EPOCHS):\n",
    "        total_loss = [] # 各バッチ実行時の損失値\n",
    "        model.train() # モデルを学習用に設定する\n",
    "        for images, labels in train_dataloader: # 画像を読み込んでtensorにする\n",
    "            images = images.to(USE_DEVICE) # GPUを使うときはGPUメモリ上に乗せる\n",
    "            labels = labels.to(USE_DEVICE) # GPUを使うときはGPUメモリ上に乗せる\n",
    "\n",
    "            # ニューラルネットワークを実行して損失値を求める\n",
    "            losses = loss(model(images), labels)\n",
    "\n",
    "            # 新しいバッチ分の学習を行う\n",
    "            optimizer.zero_grad() # 一つ前の勾配をクリア\n",
    "            losses.backward() # 損失値を逆伝播させる\n",
    "            optimizer.step() # 新しい勾配からパラメーターを更新する\n",
    "\n",
    "            # 損失値を保存しておく\n",
    "            total_loss.append(losses.detach().cpu().numpy())\n",
    "\n",
    "        # 評価\n",
    "        with torch.no_grad():\n",
    "            # 評価時の損失値と正解/認識結果を入れるリスト\n",
    "            total_loss_v = []\n",
    "            true_valid = []\n",
    "            pred_valid = []\n",
    "\n",
    "            model.eval() # モデルを推論用に設定する\n",
    "            for i, (images, labels) in enumerate(valid_dataloader):\n",
    "                images = images.to(USE_DEVICE) # GPUを使うときはGPUメモリ上に乗せる\n",
    "                labels = labels.to(USE_DEVICE) # GPUを使うときはGPUメモリ上に乗せる\n",
    "\n",
    "                outputs = model(images) # ニューラルネットワークの実行\n",
    "                losses = loss(outputs, labels) # 評価データの損失値\n",
    "\n",
    "                # 正解データを保存\n",
    "                labels = labels.detach().cpu().numpy() # CPUメモリに入れてnumpy化\n",
    "                true_valid.extend(labels.tolist())\n",
    "                # 認識結果を保存\n",
    "                outputs = outputs.detach().cpu().numpy() # CPUメモリに入れてnumpy化\n",
    "                pred_valid.extend(outputs.argmax(axis=1).tolist())\n",
    "\n",
    "                # 損失値を保存しておく\n",
    "                total_loss_v.append(losses.detach().cpu().numpy())\n",
    "\n",
    "        # エポック終了時のスコアを求める\n",
    "        total_loss = np.mean(total_loss) # 各バッチの損失の平均\n",
    "        total_loss_v = np.mean(total_loss_v) # 各バッチの損失の平均\n",
    "        score = get_score(true_valid, pred_valid) # 評価スコア\n",
    "        scores.append(score['total']) # スコアを保存しておく\n",
    "        # エポック終了時のスコアを表示する\n",
    "        print(f'epoch #{epoch+1}: train_loss:{total_loss:.4f} valid_loss:{total_loss_v:.4f} score:{score}')\n",
    "        print('--------------------------------------------')\n",
    "        # エポック終了時のモデルを保存しておく\n",
    "        torch.save(model.state_dict(), f'tmp/checkpoint{epoch}.pth')\n",
    "\n",
    "    # 現在の学習率とウェイトで最も良かったモデルをコピーして保存しておく\n",
    "    best_epoch = np.argmax(scores)\n",
    "    shutil.copyfile(f'tmp/checkpoint{best_epoch}.pth',f'tmp/test{t}_best.pth')\n",
    "    # 現在の学習率とウェイトで最も良かったモデルを損失値しておく\n",
    "    best_scores.append(scores[best_epoch])\n",
    "\n",
    "    # GPUメモリをGCする\n",
    "    del model, optimizer, loss, images, labels, outputs, losses\n",
    "    torch.cuda.empty_cache()"
   ]
  },
  {
   "cell_type": "code",
   "execution_count": 19,
   "id": "b6b6769c",
   "metadata": {
    "execution": {
     "iopub.execute_input": "2022-05-26T10:07:24.678152Z",
     "iopub.status.busy": "2022-05-26T10:07:24.677847Z",
     "iopub.status.idle": "2022-05-26T10:07:24.802253Z",
     "shell.execute_reply": "2022-05-26T10:07:24.801102Z"
    },
    "papermill": {
     "duration": 0.18303,
     "end_time": "2022-05-26T10:07:24.804912",
     "exception": false,
     "start_time": "2022-05-26T10:07:24.621882",
     "status": "completed"
    },
    "tags": []
   },
   "outputs": [
    {
     "data": {
      "text/plain": [
       "'/kaggle/working/best-model.pth'"
      ]
     },
     "execution_count": 19,
     "metadata": {},
     "output_type": "execute_result"
    }
   ],
   "source": [
    "# 最も良かった学習率とウェイトでのモデルをコピーする\n",
    "best_of_best = np.argmax(best_scores)\n",
    "shutil.copyfile(f'tmp/test{best_of_best}_best.pth', '/kaggle/working/best-model.pth')"
   ]
  },
  {
   "cell_type": "code",
   "execution_count": 20,
   "id": "29217b4f",
   "metadata": {
    "execution": {
     "iopub.execute_input": "2022-05-26T10:07:24.914117Z",
     "iopub.status.busy": "2022-05-26T10:07:24.913821Z",
     "iopub.status.idle": "2022-05-26T10:07:25.171259Z",
     "shell.execute_reply": "2022-05-26T10:07:25.170430Z"
    },
    "papermill": {
     "duration": 0.315115,
     "end_time": "2022-05-26T10:07:25.173756",
     "exception": false,
     "start_time": "2022-05-26T10:07:24.858641",
     "status": "completed"
    },
    "tags": []
   },
   "outputs": [],
   "source": [
    "# 一時ディレクトリを削除\n",
    "shutil.rmtree('tmp')"
   ]
  }
 ],
 "metadata": {
  "kernelspec": {
   "display_name": "Python 3",
   "language": "python",
   "name": "python3"
  },
  "language_info": {
   "codemirror_mode": {
    "name": "ipython",
    "version": 3
   },
   "file_extension": ".py",
   "mimetype": "text/x-python",
   "name": "python",
   "nbconvert_exporter": "python",
   "pygments_lexer": "ipython3",
   "version": "3.7.12"
  },
  "papermill": {
   "default_parameters": {},
   "duration": 29017.705435,
   "end_time": "2022-05-26T10:07:27.384231",
   "environment_variables": {},
   "exception": null,
   "input_path": "__notebook__.ipynb",
   "output_path": "__notebook__.ipynb",
   "parameters": {},
   "start_time": "2022-05-26T02:03:49.678796",
   "version": "2.3.4"
  },
  "widgets": {
   "application/vnd.jupyter.widget-state+json": {
    "state": {
     "07eecd816d3b485f8fa8f2785ae329be": {
      "model_module": "@jupyter-widgets/controls",
      "model_module_version": "1.5.0",
      "model_name": "HTMLModel",
      "state": {
       "_dom_classes": [],
       "_model_module": "@jupyter-widgets/controls",
       "_model_module_version": "1.5.0",
       "_model_name": "HTMLModel",
       "_view_count": null,
       "_view_module": "@jupyter-widgets/controls",
       "_view_module_version": "1.5.0",
       "_view_name": "HTMLView",
       "description": "",
       "description_tooltip": null,
       "layout": "IPY_MODEL_20ab0b9a773248c3b454be6c5c0c40d5",
       "placeholder": "​",
       "style": "IPY_MODEL_27ca76b4874146dc8d572ea0d2c3749c",
       "value": "100%"
      }
     },
     "14974dc83da442309bbf3ac9f2e8932d": {
      "model_module": "@jupyter-widgets/base",
      "model_module_version": "1.2.0",
      "model_name": "LayoutModel",
      "state": {
       "_model_module": "@jupyter-widgets/base",
       "_model_module_version": "1.2.0",
       "_model_name": "LayoutModel",
       "_view_count": null,
       "_view_module": "@jupyter-widgets/base",
       "_view_module_version": "1.2.0",
       "_view_name": "LayoutView",
       "align_content": null,
       "align_items": null,
       "align_self": null,
       "border": null,
       "bottom": null,
       "display": null,
       "flex": null,
       "flex_flow": null,
       "grid_area": null,
       "grid_auto_columns": null,
       "grid_auto_flow": null,
       "grid_auto_rows": null,
       "grid_column": null,
       "grid_gap": null,
       "grid_row": null,
       "grid_template_areas": null,
       "grid_template_columns": null,
       "grid_template_rows": null,
       "height": null,
       "justify_content": null,
       "justify_items": null,
       "left": null,
       "margin": null,
       "max_height": null,
       "max_width": null,
       "min_height": null,
       "min_width": null,
       "object_fit": null,
       "object_position": null,
       "order": null,
       "overflow": null,
       "overflow_x": null,
       "overflow_y": null,
       "padding": null,
       "right": null,
       "top": null,
       "visibility": null,
       "width": null
      }
     },
     "16b452a8a11042dcbd2b2c22020a6138": {
      "model_module": "@jupyter-widgets/controls",
      "model_module_version": "1.5.0",
      "model_name": "ProgressStyleModel",
      "state": {
       "_model_module": "@jupyter-widgets/controls",
       "_model_module_version": "1.5.0",
       "_model_name": "ProgressStyleModel",
       "_view_count": null,
       "_view_module": "@jupyter-widgets/base",
       "_view_module_version": "1.2.0",
       "_view_name": "StyleView",
       "bar_color": null,
       "description_width": ""
      }
     },
     "20ab0b9a773248c3b454be6c5c0c40d5": {
      "model_module": "@jupyter-widgets/base",
      "model_module_version": "1.2.0",
      "model_name": "LayoutModel",
      "state": {
       "_model_module": "@jupyter-widgets/base",
       "_model_module_version": "1.2.0",
       "_model_name": "LayoutModel",
       "_view_count": null,
       "_view_module": "@jupyter-widgets/base",
       "_view_module_version": "1.2.0",
       "_view_name": "LayoutView",
       "align_content": null,
       "align_items": null,
       "align_self": null,
       "border": null,
       "bottom": null,
       "display": null,
       "flex": null,
       "flex_flow": null,
       "grid_area": null,
       "grid_auto_columns": null,
       "grid_auto_flow": null,
       "grid_auto_rows": null,
       "grid_column": null,
       "grid_gap": null,
       "grid_row": null,
       "grid_template_areas": null,
       "grid_template_columns": null,
       "grid_template_rows": null,
       "height": null,
       "justify_content": null,
       "justify_items": null,
       "left": null,
       "margin": null,
       "max_height": null,
       "max_width": null,
       "min_height": null,
       "min_width": null,
       "object_fit": null,
       "object_position": null,
       "order": null,
       "overflow": null,
       "overflow_x": null,
       "overflow_y": null,
       "padding": null,
       "right": null,
       "top": null,
       "visibility": null,
       "width": null
      }
     },
     "27ca76b4874146dc8d572ea0d2c3749c": {
      "model_module": "@jupyter-widgets/controls",
      "model_module_version": "1.5.0",
      "model_name": "DescriptionStyleModel",
      "state": {
       "_model_module": "@jupyter-widgets/controls",
       "_model_module_version": "1.5.0",
       "_model_name": "DescriptionStyleModel",
       "_view_count": null,
       "_view_module": "@jupyter-widgets/base",
       "_view_module_version": "1.2.0",
       "_view_name": "StyleView",
       "description_width": ""
      }
     },
     "29fc50cc8123449cabbfb5ed11f5c2c3": {
      "model_module": "@jupyter-widgets/controls",
      "model_module_version": "1.5.0",
      "model_name": "HBoxModel",
      "state": {
       "_dom_classes": [],
       "_model_module": "@jupyter-widgets/controls",
       "_model_module_version": "1.5.0",
       "_model_name": "HBoxModel",
       "_view_count": null,
       "_view_module": "@jupyter-widgets/controls",
       "_view_module_version": "1.5.0",
       "_view_name": "HBoxView",
       "box_style": "",
       "children": [
        "IPY_MODEL_07eecd816d3b485f8fa8f2785ae329be",
        "IPY_MODEL_a8e2cbbccaca4dbe9a6c31cdd0132e8f",
        "IPY_MODEL_d93e81c29b3242719d055307f7b940d9"
       ],
       "layout": "IPY_MODEL_f45c5aef0e424c6ba26a4cb32664b316"
      }
     },
     "9a276f6e2dd54de98fbe1bcf4f4c0e80": {
      "model_module": "@jupyter-widgets/controls",
      "model_module_version": "1.5.0",
      "model_name": "DescriptionStyleModel",
      "state": {
       "_model_module": "@jupyter-widgets/controls",
       "_model_module_version": "1.5.0",
       "_model_name": "DescriptionStyleModel",
       "_view_count": null,
       "_view_module": "@jupyter-widgets/base",
       "_view_module_version": "1.2.0",
       "_view_name": "StyleView",
       "description_width": ""
      }
     },
     "a8e2cbbccaca4dbe9a6c31cdd0132e8f": {
      "model_module": "@jupyter-widgets/controls",
      "model_module_version": "1.5.0",
      "model_name": "FloatProgressModel",
      "state": {
       "_dom_classes": [],
       "_model_module": "@jupyter-widgets/controls",
       "_model_module_version": "1.5.0",
       "_model_name": "FloatProgressModel",
       "_view_count": null,
       "_view_module": "@jupyter-widgets/controls",
       "_view_module_version": "1.5.0",
       "_view_name": "ProgressView",
       "bar_style": "success",
       "description": "",
       "description_tooltip": null,
       "layout": "IPY_MODEL_b4f5e594c097423ebe45db0c93c4599c",
       "max": 102530333.0,
       "min": 0.0,
       "orientation": "horizontal",
       "style": "IPY_MODEL_16b452a8a11042dcbd2b2c22020a6138",
       "value": 102530333.0
      }
     },
     "b4f5e594c097423ebe45db0c93c4599c": {
      "model_module": "@jupyter-widgets/base",
      "model_module_version": "1.2.0",
      "model_name": "LayoutModel",
      "state": {
       "_model_module": "@jupyter-widgets/base",
       "_model_module_version": "1.2.0",
       "_model_name": "LayoutModel",
       "_view_count": null,
       "_view_module": "@jupyter-widgets/base",
       "_view_module_version": "1.2.0",
       "_view_name": "LayoutView",
       "align_content": null,
       "align_items": null,
       "align_self": null,
       "border": null,
       "bottom": null,
       "display": null,
       "flex": null,
       "flex_flow": null,
       "grid_area": null,
       "grid_auto_columns": null,
       "grid_auto_flow": null,
       "grid_auto_rows": null,
       "grid_column": null,
       "grid_gap": null,
       "grid_row": null,
       "grid_template_areas": null,
       "grid_template_columns": null,
       "grid_template_rows": null,
       "height": null,
       "justify_content": null,
       "justify_items": null,
       "left": null,
       "margin": null,
       "max_height": null,
       "max_width": null,
       "min_height": null,
       "min_width": null,
       "object_fit": null,
       "object_position": null,
       "order": null,
       "overflow": null,
       "overflow_x": null,
       "overflow_y": null,
       "padding": null,
       "right": null,
       "top": null,
       "visibility": null,
       "width": null
      }
     },
     "d93e81c29b3242719d055307f7b940d9": {
      "model_module": "@jupyter-widgets/controls",
      "model_module_version": "1.5.0",
      "model_name": "HTMLModel",
      "state": {
       "_dom_classes": [],
       "_model_module": "@jupyter-widgets/controls",
       "_model_module_version": "1.5.0",
       "_model_name": "HTMLModel",
       "_view_count": null,
       "_view_module": "@jupyter-widgets/controls",
       "_view_module_version": "1.5.0",
       "_view_name": "HTMLView",
       "description": "",
       "description_tooltip": null,
       "layout": "IPY_MODEL_14974dc83da442309bbf3ac9f2e8932d",
       "placeholder": "​",
       "style": "IPY_MODEL_9a276f6e2dd54de98fbe1bcf4f4c0e80",
       "value": " 97.8M/97.8M [00:10&lt;00:00, 11.0MB/s]"
      }
     },
     "f45c5aef0e424c6ba26a4cb32664b316": {
      "model_module": "@jupyter-widgets/base",
      "model_module_version": "1.2.0",
      "model_name": "LayoutModel",
      "state": {
       "_model_module": "@jupyter-widgets/base",
       "_model_module_version": "1.2.0",
       "_model_name": "LayoutModel",
       "_view_count": null,
       "_view_module": "@jupyter-widgets/base",
       "_view_module_version": "1.2.0",
       "_view_name": "LayoutView",
       "align_content": null,
       "align_items": null,
       "align_self": null,
       "border": null,
       "bottom": null,
       "display": null,
       "flex": null,
       "flex_flow": null,
       "grid_area": null,
       "grid_auto_columns": null,
       "grid_auto_flow": null,
       "grid_auto_rows": null,
       "grid_column": null,
       "grid_gap": null,
       "grid_row": null,
       "grid_template_areas": null,
       "grid_template_columns": null,
       "grid_template_rows": null,
       "height": null,
       "justify_content": null,
       "justify_items": null,
       "left": null,
       "margin": null,
       "max_height": null,
       "max_width": null,
       "min_height": null,
       "min_width": null,
       "object_fit": null,
       "object_position": null,
       "order": null,
       "overflow": null,
       "overflow_x": null,
       "overflow_y": null,
       "padding": null,
       "right": null,
       "top": null,
       "visibility": null,
       "width": null
      }
     }
    },
    "version_major": 2,
    "version_minor": 0
   }
  }
 },
 "nbformat": 4,
 "nbformat_minor": 5
}
